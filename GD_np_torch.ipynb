{
  "nbformat": 4,
  "nbformat_minor": 0,
  "metadata": {
    "colab": {
      "provenance": [],
      "authorship_tag": "ABX9TyNCcA/hdst6jyzeVa5b1hSu",
      "include_colab_link": true
    },
    "kernelspec": {
      "name": "python3",
      "display_name": "Python 3"
    },
    "language_info": {
      "name": "python"
    }
  },
  "cells": [
    {
      "cell_type": "markdown",
      "metadata": {
        "id": "view-in-github",
        "colab_type": "text"
      },
      "source": [
        "<a href=\"https://colab.research.google.com/github/HRKhan-DS/deep_learning_pytorch/blob/main/GD_np_torch.ipynb\" target=\"_parent\"><img src=\"https://colab.research.google.com/assets/colab-badge.svg\" alt=\"Open In Colab\"/></a>"
      ]
    },
    {
      "cell_type": "markdown",
      "source": [
        "# Gradient Descent work flow and understanding:"
      ],
      "metadata": {
        "id": "20I2sm8l0DBM"
      }
    },
    {
      "cell_type": "code",
      "source": [
        "import numpy as np\n",
        "\n",
        "# data\n",
        "X = np.array([1,2,3,4], dtype=np.float32)\n",
        "Y = np.array([2,4,6,8], dtype=np.float32)\n",
        "\n",
        "# Define function of forward, loss & gradient\n",
        "w = 0.0\n",
        "\n",
        "def forward_fun(x):\n",
        "  return w*x\n",
        "\n",
        "def loss_fun(y_prediction, y):\n",
        "  return ((y_prediction-y)**2).mean()\n",
        "\n",
        "def gradient_fun(x, y_prediction, y):\n",
        "  return (2 * x * (y_prediction - y)).mean()\n",
        "\n",
        "y_pred = forward_fun(5)\n",
        "\n",
        "print(f\"Prediction before training: {y_pred}\")\n",
        "\n",
        "\n",
        "lr = 0.01\n",
        "n_iter = 10\n",
        "\n",
        "for epoch in range(n_iter):\n",
        "  y_pred = forward_fun(X)\n",
        "  l = loss_fun(y_pred, Y)\n",
        "  dw = gradient_fun(X, y_pred, Y)\n",
        "  w -= lr * dw\n",
        "\n",
        "  if epoch % 1 == 0:\n",
        "    print(f\"epoch {epoch+1}: w = {w:.4f}, loss = {l:.4f}\")\n",
        "print(f\"Prediction after training: {forward_fun(5):.4f}\")"
      ],
      "metadata": {
        "colab": {
          "base_uri": "https://localhost:8080/"
        },
        "id": "zDNZMyQC0NST",
        "outputId": "bcadf21e-e830-47c1-d410-54e4f376e214"
      },
      "execution_count": 6,
      "outputs": [
        {
          "output_type": "stream",
          "name": "stdout",
          "text": [
            "Prediction before training: 0.0\n",
            "epoch 1: w = 0.3000, loss = 30.0000\n",
            "epoch 2: w = 0.5550, loss = 21.6750\n",
            "epoch 3: w = 0.7717, loss = 15.6602\n",
            "epoch 4: w = 0.9560, loss = 11.3145\n",
            "epoch 5: w = 1.1126, loss = 8.1747\n",
            "epoch 6: w = 1.2457, loss = 5.9062\n",
            "epoch 7: w = 1.3588, loss = 4.2673\n",
            "epoch 8: w = 1.4550, loss = 3.0831\n",
            "epoch 9: w = 1.5368, loss = 2.2275\n",
            "epoch 10: w = 1.6063, loss = 1.6094\n",
            "Prediction after training: 8.0313\n"
          ]
        }
      ]
    },
    {
      "cell_type": "markdown",
      "source": [
        "# Using deep learning fram on PyTorch"
      ],
      "metadata": {
        "id": "El73PnQb2yPE"
      }
    },
    {
      "cell_type": "code",
      "source": [
        "import torch\n",
        "\n",
        "# data\n",
        "X = torch.tensor([1,2,3,4], dtype=torch.float32)\n",
        "Y = torch.tensor([2,4,6,8], dtype=torch.float32)\n",
        "\n",
        "w = torch.tensor(0.0, dtype=torch.float32, requires_grad=True)\n",
        "\n",
        "# Define function of forward, loss\n",
        "\n",
        "def forward_fun(x):\n",
        "  return w*x\n",
        "\n",
        "def loss_fun(y_prediction, y):\n",
        "  return ((y_prediction-y)**2).mean()\n",
        "\n",
        "y_pred = forward_fun(torch.tensor(5))\n",
        "print(f\"Prediction before training: {y_pred.item()}:.4f\")\n",
        "\n",
        "lr = 0.01\n",
        "n_iter = 10\n",
        "\n",
        "for epoch in range(n_iter):\n",
        "  y_pred = forward_fun(X)\n",
        "  l = loss_fun(y_pred, Y)\n",
        "  l.backward()\n",
        "\n",
        "  with torch.no_grad():\n",
        "    w -= lr * w.grad\n",
        "\n",
        "  w.grad.zero_()\n",
        "\n",
        "\n",
        "  if epoch % 1 == 0:\n",
        "    print(f\"epoch {epoch+1}: w = {w.item():.4f}, loss = {l.item():.4f}\")\n",
        "print(f\"Prediction after training: {forward_fun(torch.tensor(5)):.4f}\")"
      ],
      "metadata": {
        "colab": {
          "base_uri": "https://localhost:8080/"
        },
        "id": "-FdszjL826jc",
        "outputId": "3e87bc90-55b3-497e-900e-43a99515fb7c"
      },
      "execution_count": 14,
      "outputs": [
        {
          "output_type": "stream",
          "name": "stdout",
          "text": [
            "Prediction before training: 0.0:.4f\n",
            "epoch 1: w = 0.3000, loss = 30.0000\n",
            "epoch 2: w = 0.5550, loss = 21.6750\n",
            "epoch 3: w = 0.7717, loss = 15.6602\n",
            "epoch 4: w = 0.9560, loss = 11.3145\n",
            "epoch 5: w = 1.1126, loss = 8.1747\n",
            "epoch 6: w = 1.2457, loss = 5.9062\n",
            "epoch 7: w = 1.3588, loss = 4.2673\n",
            "epoch 8: w = 1.4550, loss = 3.0831\n",
            "epoch 9: w = 1.5368, loss = 2.2275\n",
            "epoch 10: w = 1.6063, loss = 1.6094\n",
            "Prediction after training: 8.0313\n"
          ]
        }
      ]
    },
    {
      "cell_type": "markdown",
      "source": [
        "# PyTorch built-in Gradient descent"
      ],
      "metadata": {
        "id": "UgjL7hTV3-kd"
      }
    },
    {
      "cell_type": "code",
      "source": [
        "import torch\n",
        "import torch.nn as nn\n",
        "\n",
        "# Data\n",
        "X = torch.tensor([1, 2, 3, 4], dtype=torch.float32)\n",
        "Y = torch.tensor([2, 4, 6, 8], dtype=torch.float32)\n",
        "\n",
        "# Parameter to optimize\n",
        "w = torch.tensor(0.0, dtype=torch.float32, requires_grad=True)\n",
        "\n",
        "# Forward function (linear model)\n",
        "def forward_fun(x):\n",
        "    return w * x\n",
        "\n",
        "# Loss and optimizer\n",
        "criterion = nn.MSELoss()  # Fixed typo\n",
        "optimizer = torch.optim.SGD([w], lr=0.01)\n",
        "\n",
        "# Before training prediction\n",
        "y_pred = forward_fun(torch.tensor(5.0))\n",
        "print(f\"Prediction before training: {y_pred.item():.4f}\")\n",
        "\n",
        "# Training loop\n",
        "n_epochs = 10\n",
        "for epoch in range(n_epochs):\n",
        "    # Forward pass\n",
        "    y_pred = forward_fun(X)\n",
        "\n",
        "    # Loss computation\n",
        "    loss = criterion(y_pred, Y)\n",
        "\n",
        "    # Backward pass\n",
        "    loss.backward()\n",
        "    optimizer.step()\n",
        "    optimizer.zero_grad()\n",
        "\n",
        "    # Logging every 10 epochs\n",
        "    if epoch % 1 == 0:\n",
        "        print(f\"epoch {epoch + 1}: w = {w.item():.4f}, loss = {loss.item():.4f}\")\n",
        "\n",
        "# After training prediction\n",
        "y_pred = forward_fun(torch.tensor(5.0))\n",
        "print(f\"Prediction after training: {y_pred.item():.4f}\")\n"
      ],
      "metadata": {
        "colab": {
          "base_uri": "https://localhost:8080/"
        },
        "id": "9bQBS4PO4JEN",
        "outputId": "a63b4f70-aad0-4de7-9c27-03bce13b23d2"
      },
      "execution_count": 13,
      "outputs": [
        {
          "output_type": "stream",
          "name": "stdout",
          "text": [
            "Prediction before training: 0.0000\n",
            "epoch 1: w = 0.3000, loss = 30.0000\n",
            "epoch 2: w = 0.5550, loss = 21.6750\n",
            "epoch 3: w = 0.7717, loss = 15.6602\n",
            "epoch 4: w = 0.9560, loss = 11.3145\n",
            "epoch 5: w = 1.1126, loss = 8.1747\n",
            "epoch 6: w = 1.2457, loss = 5.9062\n",
            "epoch 7: w = 1.3588, loss = 4.2673\n",
            "epoch 8: w = 1.4550, loss = 3.0831\n",
            "epoch 9: w = 1.5368, loss = 2.2275\n",
            "epoch 10: w = 1.6063, loss = 1.6094\n",
            "Prediction after training: 8.0313\n"
          ]
        }
      ]
    }
  ]
}